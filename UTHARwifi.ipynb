{
  "cells": [
    {
      "cell_type": "code",
      "execution_count": null,
      "metadata": {
        "id": "JCKN9K5Uwz2R"
      },
      "outputs": [],
      "source": [
        "#dataset.py\n",
        "import numpy as np\n",
        "import glob\n",
        "import scipy.io as sio\n",
        "import torch\n",
        "from torch.utils.data import Dataset, DataLoader\n",
        "\n",
        "\n",
        "def UT_HAR_dataset(root_dir):\n",
        "    data_list = glob.glob(root_dir+'/UT_HAR/data/*.csv')\n",
        "    label_list = glob.glob(root_dir+'/UT_HAR/label/*.csv')\n",
        "    WiFi_data = {}\n",
        "    for data_dir in data_list:\n",
        "        data_name = data_dir.split('/')[-1].split('.')[0]\n",
        "        with open(data_dir, 'rb') as f:\n",
        "            data = np.load(f)\n",
        "            data = data.reshape(len(data),1,250,90)\n",
        "            data_norm = (data - np.min(data)) / (np.max(data) - np.min(data))\n",
        "        WiFi_data[data_name] = torch.Tensor(data_norm)\n",
        "    for label_dir in label_list:\n",
        "        label_name = label_dir.split('/')[-1].split('.')[0]\n",
        "        with open(label_dir, 'rb') as f:\n",
        "            label = np.load(f)\n",
        "        WiFi_data[label_name] = torch.Tensor(label)\n",
        "    return WiFi_data"
      ]
    },
    {
      "cell_type": "code",
      "execution_count": null,
      "metadata": {
        "colab": {
          "base_uri": "https://localhost:8080/"
        },
        "id": "Z0qVd5VxOTBm",
        "outputId": "a6ed7f74-1f28-4862-86e9-36e4027fdb0d"
      },
      "outputs": [
        {
          "data": {
            "text/plain": [
              "torch.Size([496])"
            ]
          },
          "execution_count": 22,
          "metadata": {},
          "output_type": "execute_result"
        }
      ],
      "source": [
        "data= UT_HAR_dataset('/content/drive/MyDrive/Data')\n",
        "data['y_val'].shape\n"
      ]
    },
    {
      "cell_type": "code",
      "execution_count": null,
      "metadata": {
        "colab": {
          "base_uri": "https://localhost:8080/"
        },
        "id": "GCFvskXigurz",
        "outputId": "41ccd511-fd32-4a6c-9c5b-8ac0922df5f8"
      },
      "outputs": [
        {
          "name": "stdout",
          "output_type": "stream",
          "text": [
            "Drive already mounted at /content/drive; to attempt to forcibly remount, call drive.mount(\"/content/drive\", force_remount=True).\n"
          ]
        }
      ],
      "source": [
        "from google.colab import drive\n",
        "drive.mount('/content/drive')"
      ]
    },
    {
      "cell_type": "code",
      "execution_count": null,
      "metadata": {
        "colab": {
          "base_uri": "https://localhost:8080/"
        },
        "id": "5_Yaur8HxKUm",
        "outputId": "54127dc2-01d1-4248-f7d2-32c113601c74"
      },
      "outputs": [
        {
          "name": "stdout",
          "output_type": "stream",
          "text": [
            "Requirement already satisfied: einops in /usr/local/lib/python3.10/dist-packages (0.7.0)\n"
          ]
        }
      ],
      "source": [
        "pip install einops"
      ]
    },
    {
      "cell_type": "code",
      "execution_count": null,
      "metadata": {
        "id": "-gEZyrnvxP86"
      },
      "outputs": [],
      "source": [
        "import torch\n",
        "import torchvision\n",
        "import torch.nn as nn\n",
        "import torch.nn.functional as F\n",
        "from einops import rearrange, reduce, repeat\n",
        "from einops.layers.torch import Rearrange, Reduce\n",
        "import tensorflow\n",
        "import h5py\n"
      ]
    },
    {
      "cell_type": "code",
      "execution_count": null,
      "metadata": {
        "id": "CR5uHm-ByLkK"
      },
      "outputs": [],
      "source": [
        "def train(model_name,model, tensor_loader,  num_epochs, learning_rate, criterion, device):\n",
        "    model = model.to(device)\n",
        "    optimizer = torch.optim.Adam(model.parameters(), lr = learning_rate)\n",
        "    for epoch in range(num_epochs):\n",
        "        model.train()\n",
        "        epoch_loss = 0\n",
        "        epoch_accuracy = 0\n",
        "        for data in tensor_loader:\n",
        "            inputs,labels = data\n",
        "            inputs = inputs.to(device)\n",
        "            labels = labels.to(device)\n",
        "            labels = labels.type(torch.LongTensor)\n",
        "\n",
        "            optimizer.zero_grad()\n",
        "            outputs = model(inputs)\n",
        "            outputs = outputs.to(device)\n",
        "            outputs = outputs.type(torch.FloatTensor)\n",
        "            loss = criterion(outputs,labels)\n",
        "            loss.backward()\n",
        "            optimizer.step()\n",
        "\n",
        "            epoch_loss += loss.item() * inputs.size(0)\n",
        "            predict_y = torch.argmax(outputs,dim=1).to(device)\n",
        "            epoch_accuracy += (predict_y == labels.to(device)).sum().item() / labels.size(0)\n",
        "        epoch_loss = epoch_loss/len(tensor_loader.dataset)\n",
        "        epoch_accuracy = epoch_accuracy/len(tensor_loader)\n",
        "        print('Epoch:{}, Accuracy:{:.4f},Loss:{:.9f}'.format(epoch+1, float(epoch_accuracy),float(epoch_loss)))\n",
        "\n",
        "        #creating h5 file\n",
        "        if model_name=='CNN+GRU':\n",
        "          torch.save(model.state_dict(), 'UT_HAR_model1.h5')\n",
        "        elif model_name=='ResNet18':\n",
        "          torch.save(model.state_dict(), 'UT_HAR_model2.h5')\n",
        "        elif model_name=='ResNet50':\n",
        "          torch.save(model.state_dict(), 'UT_HAR_model3.h5')\n",
        "    return\n",
        "\n",
        "def test(model, tensor_loader, criterion, device):\n",
        "    model.eval()\n",
        "    test_acc = 0\n",
        "    test_loss = 0\n",
        "    for data in tensor_loader:\n",
        "        inputs, labels = data\n",
        "        inputs = inputs.to(device)\n",
        "        labels.to(device)\n",
        "        labels = labels.type(torch.LongTensor)\n",
        "\n",
        "        outputs = model(inputs)\n",
        "        outputs = outputs.type(torch.FloatTensor)\n",
        "        outputs.to(device)\n",
        "\n",
        "        loss = criterion(outputs,labels)\n",
        "        predict_y = torch.argmax(outputs,dim=1).to(device)\n",
        "        accuracy = (predict_y == labels.to(device)).sum().item() / labels.size(0)\n",
        "        test_acc += accuracy\n",
        "        test_loss += loss.item() * inputs.size(0)\n",
        "    test_acc = test_acc/len(tensor_loader)\n",
        "    test_loss = test_loss/len(tensor_loader.dataset)\n",
        "    print(\"validation accuracy:{:.4f}, loss:{:.5f}\".format(float(test_acc),float(test_loss)))\n",
        "    return\n"
      ]
    },
    {
      "cell_type": "code",
      "execution_count": null,
      "metadata": {
        "id": "HD0udFNPgTTk"
      },
      "outputs": [],
      "source": [
        "class UT_HAR_LeNet(nn.Module):\n",
        "    def __init__(self):\n",
        "        super(UT_HAR_LeNet,self).__init__()\n",
        "        self.encoder = nn.Sequential(\n",
        "            #input size: (1,250,90)\n",
        "            nn.Conv2d(1,32,7,stride=(3,1)),\n",
        "            nn.ReLU(True),\n",
        "            nn.MaxPool2d(2),\n",
        "            nn.Conv2d(32,64,(5,4),stride=(2,2),padding=(1,0)),\n",
        "            nn.ReLU(True),\n",
        "            nn.MaxPool2d(2),\n",
        "            nn.Conv2d(64,96,(3,3),stride=1),\n",
        "            nn.ReLU(True),\n",
        "            nn.MaxPool2d(2)\n",
        "        )\n",
        "        self.fc = nn.Sequential(\n",
        "            nn.Linear(96*4*4,128),\n",
        "            nn.ReLU(),\n",
        "            nn.Linear(128,7)\n",
        "        )\n",
        "\n",
        "    def forward(self,x):\n",
        "        x = self.encoder(x)\n",
        "        x = x.view(-1,96*4*4)\n",
        "        out = self.fc(x)\n",
        "        return out\n"
      ]
    },
    {
      "cell_type": "code",
      "execution_count": null,
      "metadata": {
        "id": "_eBXq94D6slt"
      },
      "outputs": [],
      "source": [
        "class Bottleneck(nn.Module):\n",
        "    expansion = 4\n",
        "    def __init__(self, in_channels, out_channels, i_downsample=None, stride=1):\n",
        "        super(Bottleneck, self).__init__()\n",
        "\n",
        "        self.conv1 = nn.Conv2d(in_channels, out_channels, kernel_size=1, stride=1, padding=0)\n",
        "        self.batch_norm1 = nn.BatchNorm2d(out_channels)\n",
        "\n",
        "        self.conv2 = nn.Conv2d(out_channels, out_channels, kernel_size=3, stride=stride, padding=1)\n",
        "        self.batch_norm2 = nn.BatchNorm2d(out_channels)\n",
        "\n",
        "        self.conv3 = nn.Conv2d(out_channels, out_channels*self.expansion, kernel_size=1, stride=1, padding=0)\n",
        "        self.batch_norm3 = nn.BatchNorm2d(out_channels*self.expansion)\n",
        "\n",
        "        self.i_downsample = i_downsample\n",
        "        self.stride = stride\n",
        "        self.relu = nn.ReLU()\n",
        "\n",
        "    def forward(self, x):\n",
        "        identity = x.clone()\n",
        "        x = self.relu(self.batch_norm1(self.conv1(x)))\n",
        "        x = self.relu(self.batch_norm2(self.conv2(x)))\n",
        "        x = self.conv3(x)\n",
        "        x = self.batch_norm3(x)\n",
        "        if self.i_downsample is not None:\n",
        "            identity = self.i_downsample(identity)\n",
        "        x+=identity\n",
        "        x=self.relu(x)\n",
        "\n",
        "        return x\n",
        "\n",
        "class Block(nn.Module):\n",
        "    expansion = 1\n",
        "    def __init__(self, in_channels, out_channels, i_downsample=None, stride=1):\n",
        "        super(Block, self).__init__()\n",
        "\n",
        "\n",
        "        self.conv1 = nn.Conv2d(in_channels, out_channels, kernel_size=3, padding=1, stride=1, bias=False)\n",
        "        self.batch_norm1 = nn.BatchNorm2d(out_channels)\n",
        "        self.conv2 = nn.Conv2d(out_channels, out_channels, kernel_size=3, padding=1, stride=stride, bias=False)\n",
        "        self.batch_norm2 = nn.BatchNorm2d(out_channels)\n",
        "\n",
        "        self.i_downsample = i_downsample\n",
        "        self.stride = stride\n",
        "        self.relu = nn.ReLU()\n",
        "\n",
        "    def forward(self, x):\n",
        "        identity = x.clone()\n",
        "\n",
        "        x = self.relu(self.batch_norm1(self.conv1(x)))\n",
        "        x = self.batch_norm2(self.conv2(x))\n",
        "\n",
        "        if self.i_downsample is not None:\n",
        "            identity = self.i_downsample(identity)\n",
        "        x += identity\n",
        "        x = self.relu(x)\n",
        "        return x\n",
        "\n",
        "\n",
        "class UT_HAR_ResNet(nn.Module):\n",
        "    def __init__(self, ResBlock, layer_list, num_classes=7):\n",
        "        super(UT_HAR_ResNet, self).__init__()\n",
        "        self.reshape = nn.Sequential(\n",
        "            nn.Conv2d(1,3,7,stride=(3,1)),\n",
        "            nn.ReLU(),\n",
        "            nn.MaxPool2d(2),\n",
        "            nn.Conv2d(3,3,kernel_size=(10,11),stride=1),\n",
        "            nn.ReLU()\n",
        "        )\n",
        "        self.in_channels = 64\n",
        "\n",
        "        self.conv1 = nn.Conv2d(3, 64, kernel_size=7, stride=2, padding=3, bias=False)\n",
        "        self.batch_norm1 = nn.BatchNorm2d(64)\n",
        "        self.relu = nn.ReLU()\n",
        "        self.max_pool = nn.MaxPool2d(kernel_size = 3, stride=2, padding=1)\n",
        "\n",
        "        self.layer1 = self._make_layer(ResBlock, layer_list[0], planes=64)\n",
        "        self.layer2 = self._make_layer(ResBlock, layer_list[1], planes=128, stride=2)\n",
        "        self.layer3 = self._make_layer(ResBlock, layer_list[2], planes=256, stride=2)\n",
        "        self.layer4 = self._make_layer(ResBlock, layer_list[3], planes=512, stride=2)\n",
        "\n",
        "        self.avgpool = nn.AdaptiveAvgPool2d((1,1))\n",
        "        self.fc = nn.Linear(512*ResBlock.expansion, num_classes)\n",
        "\n",
        "    def forward(self, x):\n",
        "        x = self.reshape(x)\n",
        "        x = self.relu(self.batch_norm1(self.conv1(x)))\n",
        "        x = self.max_pool(x)\n",
        "        x = self.layer1(x)\n",
        "        x = self.layer2(x)\n",
        "        x = self.layer3(x)\n",
        "        x = self.layer4(x)\n",
        "        x = self.avgpool(x)\n",
        "        x = x.reshape(x.shape[0], -1)\n",
        "        x = self.fc(x)\n",
        "\n",
        "        return x\n",
        "\n",
        "    def _make_layer(self, ResBlock, blocks, planes, stride=1):\n",
        "        ii_downsample = None\n",
        "        layers = []\n",
        "\n",
        "        if stride != 1 or self.in_channels != planes*ResBlock.expansion:\n",
        "            ii_downsample = nn.Sequential(\n",
        "                nn.Conv2d(self.in_channels, planes*ResBlock.expansion, kernel_size=1, stride=stride),\n",
        "                nn.BatchNorm2d(planes*ResBlock.expansion)\n",
        "            )\n",
        "\n",
        "        layers.append(ResBlock(self.in_channels, planes, i_downsample=ii_downsample, stride=stride))\n",
        "        self.in_channels = planes*ResBlock.expansion\n",
        "\n",
        "        for i in range(blocks-1):\n",
        "            layers.append(ResBlock(self.in_channels, planes))\n",
        "\n",
        "        return nn.Sequential(*layers)\n",
        "\n",
        "def UT_HAR_ResNet50():\n",
        "  return UT_HAR_ResNet(Bottleneck, [3,4,6,3])\n",
        "\n",
        "\n",
        "\n",
        "\n",
        "\n"
      ]
    },
    {
      "cell_type": "code",
      "execution_count": null,
      "metadata": {
        "id": "tRHmU33C6uck"
      },
      "outputs": [],
      "source": [
        "import torch\n",
        "import torchvision\n",
        "import torch.nn as nn\n",
        "import torch.nn.functional as F\n",
        "from einops import rearrange, reduce, repeat\n",
        "from einops.layers.torch import Rearrange, Reduce\n",
        "class UT_HAR_LSTM(nn.Module):\n",
        "    def __init__(self,hidden_dim=64):\n",
        "        super(UT_HAR_LSTM,self).__init__()\n",
        "        self.lstm = nn.LSTM(90,hidden_dim,num_layers=1)\n",
        "        self.fc = nn.Linear(hidden_dim,7)\n",
        "    def forward(self,x):\n",
        "        x = x.view(-1,250,90)\n",
        "        x = x.permute(1,0,2)\n",
        "        _, (ht,ct) = self.lstm(x)\n",
        "        outputs = self.fc(ht[-1])\n",
        "        return outputs\n",
        "\n"
      ]
    },
    {
      "cell_type": "code",
      "execution_count": null,
      "metadata": {
        "id": "mA7o4q7U6utx"
      },
      "outputs": [],
      "source": [
        "class Bottleneck(nn.Module):\n",
        "    expansion = 4\n",
        "    def __init__(self, in_channels, out_channels, i_downsample=None, stride=1):\n",
        "        super(Bottleneck, self).__init__()\n",
        "\n",
        "        self.conv1 = nn.Conv2d(in_channels, out_channels, kernel_size=1, stride=1, padding=0)\n",
        "        self.batch_norm1 = nn.BatchNorm2d(out_channels)\n",
        "\n",
        "        self.conv2 = nn.Conv2d(out_channels, out_channels, kernel_size=3, stride=stride, padding=1)\n",
        "        self.batch_norm2 = nn.BatchNorm2d(out_channels)\n",
        "\n",
        "        self.conv3 = nn.Conv2d(out_channels, out_channels*self.expansion, kernel_size=1, stride=1, padding=0)\n",
        "        self.batch_norm3 = nn.BatchNorm2d(out_channels*self.expansion)\n",
        "\n",
        "        self.i_downsample = i_downsample\n",
        "        self.stride = stride\n",
        "        self.relu = nn.ReLU()\n",
        "\n",
        "    def forward(self, x):\n",
        "        identity = x.clone()\n",
        "        x = self.relu(self.batch_norm1(self.conv1(x)))\n",
        "        x = self.relu(self.batch_norm2(self.conv2(x)))\n",
        "        x = self.conv3(x)\n",
        "        x = self.batch_norm3(x)\n",
        "        if self.i_downsample is not None:\n",
        "            identity = self.i_downsample(identity)\n",
        "        x+=identity\n",
        "        x=self.relu(x)\n",
        "\n",
        "        return x\n",
        "\n",
        "class Block(nn.Module):\n",
        "    expansion = 1\n",
        "    def __init__(self, in_channels, out_channels, i_downsample=None, stride=1):\n",
        "        super(Block, self).__init__()\n",
        "\n",
        "\n",
        "        self.conv1 = nn.Conv2d(in_channels, out_channels, kernel_size=3, padding=1, stride=1, bias=False)\n",
        "        self.batch_norm1 = nn.BatchNorm2d(out_channels)\n",
        "        self.conv2 = nn.Conv2d(out_channels, out_channels, kernel_size=3, padding=1, stride=stride, bias=False)\n",
        "        self.batch_norm2 = nn.BatchNorm2d(out_channels)\n",
        "\n",
        "        self.i_downsample = i_downsample\n",
        "        self.stride = stride\n",
        "        self.relu = nn.ReLU()\n",
        "\n",
        "    def forward(self, x):\n",
        "        identity = x.clone()\n",
        "\n",
        "        x = self.relu(self.batch_norm1(self.conv1(x)))\n",
        "        x = self.batch_norm2(self.conv2(x))\n",
        "\n",
        "        if self.i_downsample is not None:\n",
        "            identity = self.i_downsample(identity)\n",
        "        x += identity\n",
        "        x = self.relu(x)\n",
        "        return x\n",
        "\n",
        "\n",
        "class UT_HAR_ResNet(nn.Module):\n",
        "    def __init__(self, ResBlock, layer_list, num_classes=7):\n",
        "        super(UT_HAR_ResNet, self).__init__()\n",
        "        self.reshape = nn.Sequential(\n",
        "            nn.Conv2d(1,3,7,stride=(3,1)),\n",
        "            nn.ReLU(),\n",
        "            nn.MaxPool2d(2),\n",
        "            nn.Conv2d(3,3,kernel_size=(10,11),stride=1),\n",
        "            nn.ReLU()\n",
        "        )\n",
        "        self.in_channels = 64\n",
        "\n",
        "        self.conv1 = nn.Conv2d(3, 64, kernel_size=7, stride=2, padding=3, bias=False)\n",
        "        self.batch_norm1 = nn.BatchNorm2d(64)\n",
        "        self.relu = nn.ReLU()\n",
        "        self.max_pool = nn.MaxPool2d(kernel_size = 3, stride=2, padding=1)\n",
        "\n",
        "        self.layer1 = self._make_layer(ResBlock, layer_list[0], planes=64)\n",
        "        self.layer2 = self._make_layer(ResBlock, layer_list[1], planes=128, stride=2)\n",
        "        self.layer3 = self._make_layer(ResBlock, layer_list[2], planes=256, stride=2)\n",
        "        self.layer4 = self._make_layer(ResBlock, layer_list[3], planes=512, stride=2)\n",
        "\n",
        "        self.avgpool = nn.AdaptiveAvgPool2d((1,1))\n",
        "        self.fc = nn.Linear(512*ResBlock.expansion, num_classes)\n",
        "\n",
        "    def forward(self, x):\n",
        "        x = self.reshape(x)\n",
        "        x = self.relu(self.batch_norm1(self.conv1(x)))\n",
        "        x = self.max_pool(x)\n",
        "        x = self.layer1(x)\n",
        "        x = self.layer2(x)\n",
        "        x = self.layer3(x)\n",
        "        x = self.layer4(x)\n",
        "        x = self.avgpool(x)\n",
        "        x = x.reshape(x.shape[0], -1)\n",
        "        x = self.fc(x)\n",
        "\n",
        "        return x\n",
        "\n",
        "    def _make_layer(self, ResBlock, blocks, planes, stride=1):\n",
        "        ii_downsample = None\n",
        "        layers = []\n",
        "\n",
        "        if stride != 1 or self.in_channels != planes*ResBlock.expansion:\n",
        "            ii_downsample = nn.Sequential(\n",
        "                nn.Conv2d(self.in_channels, planes*ResBlock.expansion, kernel_size=1, stride=stride),\n",
        "                nn.BatchNorm2d(planes*ResBlock.expansion)\n",
        "            )\n",
        "\n",
        "        layers.append(ResBlock(self.in_channels, planes, i_downsample=ii_downsample, stride=stride))\n",
        "        self.in_channels = planes*ResBlock.expansion\n",
        "\n",
        "        for i in range(blocks-1):\n",
        "            layers.append(ResBlock(self.in_channels, planes))\n",
        "\n",
        "        return nn.Sequential(*layers)\n",
        "\n",
        "def UT_HAR_ResNet18():\n",
        "  return UT_HAR_ResNet(Block, [2,2,2,2])\n",
        "\n",
        "\n",
        "\n",
        "\n"
      ]
    },
    {
      "cell_type": "code",
      "execution_count": null,
      "metadata": {
        "colab": {
          "base_uri": "https://localhost:8080/"
        },
        "id": "m-bJp_k7407P",
        "outputId": "b5cc6506-0972-4a82-e7d4-54c8717c6511"
      },
      "outputs": [
        {
          "name": "stdout",
          "output_type": "stream",
          "text": [
            "Epoch:1, Accuracy:0.2828,Loss:1.813389267\n",
            "Epoch:2, Accuracy:0.3090,Loss:1.760836313\n",
            "Epoch:3, Accuracy:0.4128,Loss:1.532172526\n",
            "Epoch:4, Accuracy:0.5189,Loss:1.257570086\n",
            "Epoch:5, Accuracy:0.6227,Loss:1.045732132\n",
            "Epoch:6, Accuracy:0.6752,Loss:0.903623477\n",
            "Epoch:7, Accuracy:0.7193,Loss:0.781103185\n",
            "Epoch:8, Accuracy:0.7462,Loss:0.702980356\n",
            "Epoch:9, Accuracy:0.7901,Loss:0.600105675\n",
            "Epoch:10, Accuracy:0.8158,Loss:0.519264566\n",
            "Epoch:11, Accuracy:0.8417,Loss:0.460769978\n",
            "Epoch:12, Accuracy:0.8904,Loss:0.333475951\n",
            "Epoch:13, Accuracy:0.8947,Loss:0.312476070\n",
            "Epoch:14, Accuracy:0.9070,Loss:0.276911257\n",
            "Epoch:15, Accuracy:0.9282,Loss:0.220021826\n",
            "validation accuracy:0.9183, loss:0.24568\n"
          ]
        }
      ],
      "source": [
        "import numpy as np\n",
        "import torch\n",
        "import torch.nn as nn\n",
        "import argparse\n",
        "from sklearn.ensemble import VotingClassifier\n",
        "root = '/content/drive/MyDrive/Data'\n",
        "data = UT_HAR_dataset(root)\n",
        "train_set = torch.utils.data.TensorDataset(data['X_train'],data['y_train'])\n",
        "test_set = torch.utils.data.TensorDataset(torch.cat((data['X_val'],data['X_test']),0),torch.cat((data['y_val'],data['y_test']),0))\n",
        "X_test = torch.cat((data['X_val'],data['X_test']),0)\n",
        "Y_test= torch.cat((data['y_val'],data['y_test']),0)\n",
        "train_loader = torch.utils.data.DataLoader(train_set,batch_size=64,shuffle=True, drop_last=True) # drop_last=True\n",
        "test_loader = torch.utils.data.DataLoader(test_set,batch_size=256,shuffle=False)\n",
        "\n",
        "model= UT_HAR_LeNet()\n",
        "criterion = nn.CrossEntropyLoss()\n",
        "device = torch.device(\"cuda\" if torch.cuda.is_available() else \"cpu\")\n",
        "model.to(device)\n",
        "\n",
        "train(\n",
        "      model_name= 'CNN',\n",
        "      model= model,\n",
        "      tensor_loader= train_loader,\n",
        "      num_epochs= 15,\n",
        "      learning_rate=1e-3,\n",
        "      criterion=criterion,\n",
        "      device=device\n",
        "         )\n",
        "test(\n",
        "      model= model,\n",
        "      tensor_loader=test_loader,\n",
        "      criterion=criterion,\n",
        "      device= device\n",
        "        )\n"
      ]
    },
    {
      "cell_type": "code",
      "execution_count": null,
      "metadata": {
        "colab": {
          "base_uri": "https://localhost:8080/",
          "height": 355
        },
        "id": "G_P9KtqqbRgH",
        "outputId": "d91896e1-0211-48ba-e8e6-34cab2575f94"
      },
      "outputs": [
        {
          "ename": "FileNotFoundError",
          "evalue": "[Errno 2] No such file or directory: 'UT_HAR_model1.h5'",
          "output_type": "error",
          "traceback": [
            "\u001b[0;31m---------------------------------------------------------------------------\u001b[0m",
            "\u001b[0;31mFileNotFoundError\u001b[0m                         Traceback (most recent call last)",
            "\u001b[0;32m<ipython-input-32-4d4fe00944a5>\u001b[0m in \u001b[0;36m<cell line: 1>\u001b[0;34m()\u001b[0m\n\u001b[0;32m----> 1\u001b[0;31m \u001b[0mmodel\u001b[0m\u001b[0;34m.\u001b[0m\u001b[0mload_state_dict\u001b[0m\u001b[0;34m(\u001b[0m\u001b[0mtorch\u001b[0m\u001b[0;34m.\u001b[0m\u001b[0mload\u001b[0m\u001b[0;34m(\u001b[0m\u001b[0;34m'UT_HAR_model1.h5'\u001b[0m\u001b[0;34m)\u001b[0m\u001b[0;34m)\u001b[0m\u001b[0;34m\u001b[0m\u001b[0;34m\u001b[0m\u001b[0m\n\u001b[0m\u001b[1;32m      2\u001b[0m \u001b[0mmodel\u001b[0m\u001b[0;34m.\u001b[0m\u001b[0meval\u001b[0m\u001b[0;34m(\u001b[0m\u001b[0;34m)\u001b[0m\u001b[0;34m\u001b[0m\u001b[0;34m\u001b[0m\u001b[0m\n\u001b[1;32m      3\u001b[0m \u001b[0;34m\u001b[0m\u001b[0m\n",
            "\u001b[0;32m/usr/local/lib/python3.10/dist-packages/torch/serialization.py\u001b[0m in \u001b[0;36mload\u001b[0;34m(f, map_location, pickle_module, weights_only, mmap, **pickle_load_args)\u001b[0m\n\u001b[1;32m    984\u001b[0m         \u001b[0mpickle_load_args\u001b[0m\u001b[0;34m[\u001b[0m\u001b[0;34m'encoding'\u001b[0m\u001b[0;34m]\u001b[0m \u001b[0;34m=\u001b[0m \u001b[0;34m'utf-8'\u001b[0m\u001b[0;34m\u001b[0m\u001b[0;34m\u001b[0m\u001b[0m\n\u001b[1;32m    985\u001b[0m \u001b[0;34m\u001b[0m\u001b[0m\n\u001b[0;32m--> 986\u001b[0;31m     \u001b[0;32mwith\u001b[0m \u001b[0m_open_file_like\u001b[0m\u001b[0;34m(\u001b[0m\u001b[0mf\u001b[0m\u001b[0;34m,\u001b[0m \u001b[0;34m'rb'\u001b[0m\u001b[0;34m)\u001b[0m \u001b[0;32mas\u001b[0m \u001b[0mopened_file\u001b[0m\u001b[0;34m:\u001b[0m\u001b[0;34m\u001b[0m\u001b[0;34m\u001b[0m\u001b[0m\n\u001b[0m\u001b[1;32m    987\u001b[0m         \u001b[0;32mif\u001b[0m \u001b[0m_is_zipfile\u001b[0m\u001b[0;34m(\u001b[0m\u001b[0mopened_file\u001b[0m\u001b[0;34m)\u001b[0m\u001b[0;34m:\u001b[0m\u001b[0;34m\u001b[0m\u001b[0;34m\u001b[0m\u001b[0m\n\u001b[1;32m    988\u001b[0m             \u001b[0;31m# The zipfile reader is going to advance the current file position.\u001b[0m\u001b[0;34m\u001b[0m\u001b[0;34m\u001b[0m\u001b[0m\n",
            "\u001b[0;32m/usr/local/lib/python3.10/dist-packages/torch/serialization.py\u001b[0m in \u001b[0;36m_open_file_like\u001b[0;34m(name_or_buffer, mode)\u001b[0m\n\u001b[1;32m    433\u001b[0m \u001b[0;32mdef\u001b[0m \u001b[0m_open_file_like\u001b[0m\u001b[0;34m(\u001b[0m\u001b[0mname_or_buffer\u001b[0m\u001b[0;34m,\u001b[0m \u001b[0mmode\u001b[0m\u001b[0;34m)\u001b[0m\u001b[0;34m:\u001b[0m\u001b[0;34m\u001b[0m\u001b[0;34m\u001b[0m\u001b[0m\n\u001b[1;32m    434\u001b[0m     \u001b[0;32mif\u001b[0m \u001b[0m_is_path\u001b[0m\u001b[0;34m(\u001b[0m\u001b[0mname_or_buffer\u001b[0m\u001b[0;34m)\u001b[0m\u001b[0;34m:\u001b[0m\u001b[0;34m\u001b[0m\u001b[0;34m\u001b[0m\u001b[0m\n\u001b[0;32m--> 435\u001b[0;31m         \u001b[0;32mreturn\u001b[0m \u001b[0m_open_file\u001b[0m\u001b[0;34m(\u001b[0m\u001b[0mname_or_buffer\u001b[0m\u001b[0;34m,\u001b[0m \u001b[0mmode\u001b[0m\u001b[0;34m)\u001b[0m\u001b[0;34m\u001b[0m\u001b[0;34m\u001b[0m\u001b[0m\n\u001b[0m\u001b[1;32m    436\u001b[0m     \u001b[0;32melse\u001b[0m\u001b[0;34m:\u001b[0m\u001b[0;34m\u001b[0m\u001b[0;34m\u001b[0m\u001b[0m\n\u001b[1;32m    437\u001b[0m         \u001b[0;32mif\u001b[0m \u001b[0;34m'w'\u001b[0m \u001b[0;32min\u001b[0m \u001b[0mmode\u001b[0m\u001b[0;34m:\u001b[0m\u001b[0;34m\u001b[0m\u001b[0;34m\u001b[0m\u001b[0m\n",
            "\u001b[0;32m/usr/local/lib/python3.10/dist-packages/torch/serialization.py\u001b[0m in \u001b[0;36m__init__\u001b[0;34m(self, name, mode)\u001b[0m\n\u001b[1;32m    414\u001b[0m \u001b[0;32mclass\u001b[0m \u001b[0m_open_file\u001b[0m\u001b[0;34m(\u001b[0m\u001b[0m_opener\u001b[0m\u001b[0;34m)\u001b[0m\u001b[0;34m:\u001b[0m\u001b[0;34m\u001b[0m\u001b[0;34m\u001b[0m\u001b[0m\n\u001b[1;32m    415\u001b[0m     \u001b[0;32mdef\u001b[0m \u001b[0m__init__\u001b[0m\u001b[0;34m(\u001b[0m\u001b[0mself\u001b[0m\u001b[0;34m,\u001b[0m \u001b[0mname\u001b[0m\u001b[0;34m,\u001b[0m \u001b[0mmode\u001b[0m\u001b[0;34m)\u001b[0m\u001b[0;34m:\u001b[0m\u001b[0;34m\u001b[0m\u001b[0;34m\u001b[0m\u001b[0m\n\u001b[0;32m--> 416\u001b[0;31m         \u001b[0msuper\u001b[0m\u001b[0;34m(\u001b[0m\u001b[0;34m)\u001b[0m\u001b[0;34m.\u001b[0m\u001b[0m__init__\u001b[0m\u001b[0;34m(\u001b[0m\u001b[0mopen\u001b[0m\u001b[0;34m(\u001b[0m\u001b[0mname\u001b[0m\u001b[0;34m,\u001b[0m \u001b[0mmode\u001b[0m\u001b[0;34m)\u001b[0m\u001b[0;34m)\u001b[0m\u001b[0;34m\u001b[0m\u001b[0;34m\u001b[0m\u001b[0m\n\u001b[0m\u001b[1;32m    417\u001b[0m \u001b[0;34m\u001b[0m\u001b[0m\n\u001b[1;32m    418\u001b[0m     \u001b[0;32mdef\u001b[0m \u001b[0m__exit__\u001b[0m\u001b[0;34m(\u001b[0m\u001b[0mself\u001b[0m\u001b[0;34m,\u001b[0m \u001b[0;34m*\u001b[0m\u001b[0margs\u001b[0m\u001b[0;34m)\u001b[0m\u001b[0;34m:\u001b[0m\u001b[0;34m\u001b[0m\u001b[0;34m\u001b[0m\u001b[0m\n",
            "\u001b[0;31mFileNotFoundError\u001b[0m: [Errno 2] No such file or directory: 'UT_HAR_model1.h5'"
          ]
        }
      ],
      "source": [
        " model.load_state_dict(torch.load('UT_HAR_model1.h5'))\n",
        " model.eval()\n",
        "\n"
      ]
    },
    {
      "cell_type": "code",
      "execution_count": null,
      "metadata": {
        "id": "9AjH1N3ZbZjt"
      },
      "outputs": [],
      "source": [
        "with torch.no_grad():\n",
        "    predictions = np.argmax(model(data['X_test']),axis=-1)"
      ]
    },
    {
      "cell_type": "code",
      "execution_count": null,
      "metadata": {
        "colab": {
          "base_uri": "https://localhost:8080/"
        },
        "id": "JYUoRLtCtNak",
        "outputId": "fbb6c64f-eeec-4045-cfed-fab42db7bf9b"
      },
      "outputs": [
        {
          "data": {
            "text/plain": [
              "torch.Size([500])"
            ]
          },
          "execution_count": 34,
          "metadata": {},
          "output_type": "execute_result"
        }
      ],
      "source": [
        "data['y_test'].shape\n"
      ]
    },
    {
      "cell_type": "code",
      "execution_count": null,
      "metadata": {
        "colab": {
          "base_uri": "https://localhost:8080/"
        },
        "id": "hcam2KK6uL4g",
        "outputId": "428869e1-74aa-4d4c-d2ee-2da382dc9cf9"
      },
      "outputs": [
        {
          "data": {
            "text/plain": [
              "torch.Size([500])"
            ]
          },
          "execution_count": 35,
          "metadata": {},
          "output_type": "execute_result"
        }
      ],
      "source": [
        "predictions.shape"
      ]
    },
    {
      "cell_type": "code",
      "execution_count": null,
      "metadata": {
        "colab": {
          "base_uri": "https://localhost:8080/",
          "height": 834
        },
        "id": "Vskkgupd8HU2",
        "outputId": "8cc65dbe-61c7-4bbb-9184-64a5ac7953fd"
      },
      "outputs": [
        {
          "name": "stdout",
          "output_type": "stream",
          "text": [
            "[[ 55   0   0   3   0   4   4]\n",
            " [  0  43   1   0   1   0   0]\n",
            " [  1   0 140   0   4   0   2]\n",
            " [  1   0   0  49   0   0   0]\n",
            " [  0   0   0   4 116   1   0]\n",
            " [  2   2   1   0   0  31   4]\n",
            " [  3   0   1   0   1   1  25]]\n",
            "classification_report of model1:\n",
            "              precision    recall  f1-score   support\n",
            "\n",
            "         0.0       0.89      0.83      0.86        66\n",
            "         1.0       0.96      0.96      0.96        45\n",
            "         2.0       0.98      0.95      0.97       147\n",
            "         3.0       0.88      0.98      0.92        50\n",
            "         4.0       0.95      0.96      0.95       121\n",
            "         5.0       0.84      0.78      0.81        40\n",
            "         6.0       0.71      0.81      0.76        31\n",
            "\n",
            "    accuracy                           0.92       500\n",
            "   macro avg       0.89      0.89      0.89       500\n",
            "weighted avg       0.92      0.92      0.92       500\n",
            "\n"
          ]
        },
        {
          "data": {
            "text/plain": [
              "<Axes: >"
            ]
          },
          "execution_count": 36,
          "metadata": {},
          "output_type": "execute_result"
        },
        {
          "data": {
            "image/png": "[encoded data removed]",
            "text/plain": [
              "<Figure size 640x480 with 2 Axes>"
            ]
          },
          "metadata": {},
          "output_type": "display_data"
        }
      ],
      "source": [
        "\n",
        "from sklearn.metrics import confusion_matrix,classification_report\n",
        "import seaborn as sns\n",
        "cm= confusion_matrix(data['y_test'],predictions)\n",
        "print(cm)\n",
        "print(\"classification_report of model1:\")\n",
        "print(classification_report(data['y_test'],predictions))\n",
        "sns.heatmap(cm, annot=True)"
      ]
    },
    {
      "cell_type": "code",
      "execution_count": null,
      "metadata": {
        "colab": {
          "base_uri": "https://localhost:8080/"
        },
        "id": "_e1iT2C3y0ej",
        "outputId": "e0622f5c-9dd7-451b-fd28-550fa0c5876b"
      },
      "outputs": [
        {
          "name": "stdout",
          "output_type": "stream",
          "text": [
            "Class 0 - TPR: 0.8333, FPR: 0.0161\n",
            "Class 1 - TPR: 0.9556, FPR: 0.0044\n",
            "Class 2 - TPR: 0.9524, FPR: 0.0085\n",
            "Class 3 - TPR: 0.9800, FPR: 0.0156\n",
            "Class 4 - TPR: 0.9587, FPR: 0.0158\n",
            "Class 5 - TPR: 0.7750, FPR: 0.0130\n",
            "Class 6 - TPR: 0.8065, FPR: 0.0213\n"
          ]
        }
      ],
      "source": [
        "num_classes = cm.shape[0]\n",
        "\n",
        "# Initialize arrays to store TPR and FPR for each class\n",
        "tpr_per_class = dict()\n",
        "fpr_per_class = dict()\n",
        "\n",
        "for i in range(num_classes):\n",
        "    # True Positive (TP), False Positive (FP), True Negative (TN), False Negative (FN) for each class\n",
        "    TP = cm[i, i]\n",
        "    FP = cm[:, i].sum() - TP\n",
        "    FN = cm[i, :].sum() - TP\n",
        "    TN = cm.sum() - (TP + FP + FN)\n",
        "\n",
        "    # Calculate TPR and FPR for each class\n",
        "    tpr_per_class[i] = TP / (TP + FN)\n",
        "    fpr_per_class[i] = FP / (FP + TN)\n",
        "\n",
        "# Print TPR and FPR for each class\n",
        "for i in range(num_classes):\n",
        "    print(f\"Class {i} - TPR: {tpr_per_class[i]:.4f}, FPR: {fpr_per_class[i]:.4f}\")\n"
      ]
    },
    {
      "cell_type": "code",
      "execution_count": null,
      "metadata": {
        "id": "r6BNfjEAuUpw"
      },
      "outputs": [],
      "source": [
        "Y_test_flat = data['y_test'].view(data['y_test'].size(0), -1)"
      ]
    },
    {
      "cell_type": "code",
      "execution_count": null,
      "metadata": {
        "id": "es8K0jz91aBt"
      },
      "outputs": [],
      "source": [
        "from sklearn.preprocessing import label_binarize\n",
        "Y_test_bin = label_binarize(Y_test_flat, classes= [0,1,2,3,4,5,6])"
      ]
    },
    {
      "cell_type": "code",
      "execution_count": null,
      "metadata": {
        "colab": {
          "base_uri": "https://localhost:8080/"
        },
        "id": "uiAiElciDSvN",
        "outputId": "036e2214-559a-4a48-e3a4-baf3b15fec2c"
      },
      "outputs": [
        {
          "data": {
            "text/plain": [
              "(500, 7)"
            ]
          },
          "execution_count": 40,
          "metadata": {},
          "output_type": "execute_result"
        }
      ],
      "source": [
        "Y_test_bin.shape"
      ]
    },
    {
      "cell_type": "code",
      "execution_count": null,
      "metadata": {
        "id": "LhjpgL8pDavE"
      },
      "outputs": [],
      "source": [
        "predictions_flat= predictions.view(predictions.size(0), -1)"
      ]
    },
    {
      "cell_type": "code",
      "execution_count": null,
      "metadata": {
        "colab": {
          "base_uri": "https://localhost:8080/"
        },
        "id": "DdiNDd4fFBD_",
        "outputId": "5a1ae1d0-dd14-4e8c-caaa-d0f60668664c"
      },
      "outputs": [
        {
          "data": {
            "text/plain": [
              "torch.Size([500, 1])"
            ]
          },
          "execution_count": 42,
          "metadata": {},
          "output_type": "execute_result"
        }
      ],
      "source": [
        "predictions_flat.shape"
      ]
    },
    {
      "cell_type": "code",
      "execution_count": null,
      "metadata": {
        "id": "sRt_NI3fFECw"
      },
      "outputs": [],
      "source": [
        "pred_bin=label_binarize(predictions_flat, classes= [0,1,2,3,4,5,6])"
      ]
    },
    {
      "cell_type": "code",
      "execution_count": null,
      "metadata": {
        "colab": {
          "base_uri": "https://localhost:8080/"
        },
        "id": "AzHTgsQqFQfc",
        "outputId": "e6e6c37c-6dac-4c13-ad0e-da522fec5cc4"
      },
      "outputs": [
        {
          "data": {
            "text/plain": [
              "(500, 7)"
            ]
          },
          "execution_count": 44,
          "metadata": {},
          "output_type": "execute_result"
        }
      ],
      "source": [
        "pred_bin.shape"
      ]
    },
    {
      "cell_type": "code",
      "execution_count": null,
      "metadata": {
        "colab": {
          "base_uri": "https://localhost:8080/"
        },
        "id": "2y6XFCs40Cdf",
        "outputId": "0318b593-7295-4b02-f87a-a6f87e790efb"
      },
      "outputs": [
        {
          "data": {
            "text/plain": [
              "numpy.ndarray"
            ]
          },
          "execution_count": 45,
          "metadata": {},
          "output_type": "execute_result"
        }
      ],
      "source": [
        "type(pred_bin)"
      ]
    },
    {
      "cell_type": "code",
      "execution_count": null,
      "metadata": {
        "id": "93TOAPs-Qd6M"
      },
      "outputs": [],
      "source": [
        "from __future__ import division\n",
        "import numpy as np\n",
        "\n",
        "from sklearn.datasets import make_classification\n",
        "from sklearn.model_selection import train_test_split\n",
        "from sklearn.linear_model import LogisticRegression\n",
        "from sklearn.metrics import confusion_matrix\n",
        "import matplotlib.pyplot as plt\n",
        "from sklearn.preprocessing import Binarizer\n",
        "from sklearn.metrics import auc, roc_curve\n",
        "import matplotlib\n",
        "from sklearn.naive_bayes import GaussianNB"
      ]
    },
    {
      "cell_type": "code",
      "execution_count": null,
      "metadata": {
        "id": "S1vlF966Z43g"
      },
      "outputs": [],
      "source": [
        "import matplotlib.pyplot as plt\n",
        "from sklearn.metrics import roc_curve, auc\n",
        "\n",
        "# Assuming Y_test_bin and pred_bin are NumPy arrays (not tensors)\n",
        "fpr = dict()\n",
        "tpr = dict()\n",
        "roc_auc_per_class = dict()\n",
        "\n",
        "for i in range(7):\n",
        "    fpr[i], tpr[i], _ = roc_curve(Y_test_bin[:, i], pred_bin[:, i])\n",
        "    roc_auc_per_class[i] = auc(fpr[i], tpr[i])\n",
        "\n",
        "print(roc_auc_per_class)\n",
        "\n",
        "# Plot ROC curves for each class\n",
        "plt.figure(figsize=(8, 6))\n",
        "\n",
        "for i in range(7):\n",
        "    plt.plot(fpr[i], tpr[i], label=f'Class {i} (AUC = {roc_auc_per_class[i]:.2f})')\n",
        "\n",
        "plt.plot([0, 1], [0, 1], 'k--', lw=2, label='Random Classifier')  # Clearer label\n",
        "plt.xlim([0.0, 1.0])\n",
        "plt.ylim([0.0, 1.05])\n",
        "plt.xlabel('False Positive Rate')\n",
        "plt.ylabel('True Positive Rate')\n",
        "plt.title('Receiver Operating Characteristic (ROC) Curve for Multi-class')\n",
        "plt.legend(loc=\"lower right\")\n",
        "plt.show()\n",
        "\n",
        "\n",
        "\n",
        "\n",
        "\n",
        "\n"
      ]
    },
    {
      "cell_type": "code",
      "execution_count": null,
      "metadata": {
        "id": "YD9r60qX9FYW"
      },
      "outputs": [],
      "source": [
        "model= UT_HAR_ResNet50()\n",
        "model.to(device)\n",
        "\n",
        "train(\n",
        "      model_name= 'ResNet50',\n",
        "      model=model,\n",
        "      tensor_loader= train_loader,\n",
        "      num_epochs= 25,\n",
        "      learning_rate=1e-3,\n",
        "      criterion=criterion,\n",
        "      device=device\n",
        "         )\n",
        "test(\n",
        "      model=model,\n",
        "      tensor_loader=test_loader,\n",
        "      criterion=criterion,\n",
        "      device= device\n",
        "        )\n"
      ]
    },
    {
      "cell_type": "code",
      "execution_count": null,
      "metadata": {
        "id": "m7JShJEYDXph"
      },
      "outputs": [],
      "source": [
        " model.load_state_dict(torch.load('UT_HAR_model3.h5'))\n",
        " model.eval()\n",
        " with torch.no_grad():\n",
        "    predictions = np.argmax(model(data['X_test']),axis=-1)"
      ]
    },
    {
      "cell_type": "code",
      "execution_count": null,
      "metadata": {
        "id": "ymV_RrAtDZY4"
      },
      "outputs": [],
      "source": [
        "from sklearn.metrics import confusion_matrix,classification_report\n",
        "import seaborn as sns\n",
        "cm= confusion_matrix(data['y_test'],predictions)\n",
        "print(cm)\n",
        "print(\"classification_report of model1:\")\n",
        "print(classification_report(data['y_test'],predictions))\n",
        "sns.heatmap(cm, annot=True)"
      ]
    },
    {
      "cell_type": "code",
      "execution_count": null,
      "metadata": {
        "id": "dh3sIe1ZDiop"
      },
      "outputs": [],
      "source": [
        "num_classes = cm.shape[0]\n",
        "\n",
        "# Initialize arrays to store TPR and FPR for each class\n",
        "tpr_per_class = np.zeros(num_classes)\n",
        "fpr_per_class = np.zeros(num_classes)\n",
        "\n",
        "for i in range(num_classes):\n",
        "    # True Positive (TP), False Positive (FP), True Negative (TN), False Negative (FN) for each class\n",
        "    TP = cm[i, i]\n",
        "    FP = cm[:, i].sum() - TP\n",
        "    FN = cm[i, :].sum() - TP\n",
        "    TN = cm.sum() - (TP + FP + FN)\n",
        "\n",
        "    # Calculate TPR and FPR for each class\n",
        "    tpr_per_class[i] = TP / (TP + FN)\n",
        "    fpr_per_class[i] = FP / (FP + TN)\n",
        "\n",
        "# Print TPR and FPR for each class\n",
        "for i in range(num_classes):\n",
        "    print(f\"Class {i} - TPR: {tpr_per_class[i]:.4f}, FPR: {fpr_per_class[i]:.4f}\")"
      ]
    },
    {
      "cell_type": "code",
      "execution_count": null,
      "metadata": {
        "id": "jj7O_a-hdQdh"
      },
      "outputs": [],
      "source": [
        "Y_test_flat = data['y_test'].view(data['y_test'].size(0), -1)\n",
        "Y_test_bin = label_binarize(Y_test_flat, classes= [0,1,2,3,4,5,6])\n",
        "Y_test_bin.shape"
      ]
    },
    {
      "cell_type": "code",
      "execution_count": null,
      "metadata": {
        "id": "uDNqK9YTdQMj"
      },
      "outputs": [],
      "source": [
        "predictions_flat= predictions.view(predictions.size(0), -1)\n",
        "pred_bin=label_binarize(predictions_flat, classes= [0,1,2,3,4,5,6])\n",
        "pred_bin.shape\n"
      ]
    },
    {
      "cell_type": "code",
      "execution_count": null,
      "metadata": {
        "id": "krYPrXBWbNN5"
      },
      "outputs": [],
      "source": [
        "fpr = dict()\n",
        "tpr = dict()\n",
        "roc_auc_per_class = dict()\n",
        "\n",
        "for i in range(7):\n",
        "    fpr[i], tpr[i], _ = roc_curve(Y_test_bin[:, i], pred_bin[:, i])\n",
        "    roc_auc_per_class[i] = auc(fpr[i], tpr[i])\n",
        "\n",
        "\n",
        "# Plot ROC curves for each class\n",
        "plt.figure(figsize=(8, 6))\n",
        "\n",
        "for i in range(7):\n",
        "  plt.plot(fpr[i], tpr[i],label=f'Class {i} (AUC = {roc_auc_per_class[i]:.2f})')\n",
        "\n",
        "\n",
        "plt.plot([0, 1], [0, 1], 'k--', lw=2)\n",
        "plt.xlim([0.0, 1.0])\n",
        "plt.ylim([0.0, 1.05])\n",
        "plt.xlabel('False Positive Rate')\n",
        "plt.ylabel('True Positive Rate')\n",
        "plt.title('Receiver Operating Characteristic (ROC) Curve for Multi-class')\n",
        "plt.legend(loc=\"lower right\")\n",
        "plt.show()\n"
      ]
    },
    {
      "cell_type": "code",
      "execution_count": null,
      "metadata": {
        "id": "bcPR2BDH9E85"
      },
      "outputs": [],
      "source": [
        "model= UT_HAR_ResNet18()\n",
        "model.to(device)\n",
        "\n",
        "train(\n",
        "      model_name= 'ResNet18',\n",
        "      model=model,\n",
        "      tensor_loader= train_loader,\n",
        "      num_epochs= 50,\n",
        "      learning_rate=1e-3,\n",
        "      criterion=criterion,\n",
        "      device=device\n",
        "         )\n",
        "test(\n",
        "      model=model,\n",
        "      tensor_loader=test_loader,\n",
        "      criterion=criterion,\n",
        "      device= device\n",
        "        )"
      ]
    },
    {
      "cell_type": "code",
      "execution_count": null,
      "metadata": {
        "id": "p95ChTTcELsL"
      },
      "outputs": [],
      "source": [
        "model.load_state_dict(torch.load('UT_HAR_model2.h5'))\n",
        "model.eval()\n",
        "with torch.no_grad():\n",
        "  predictions = np.argmax(model(data['X_test']),axis=-1)"
      ]
    },
    {
      "cell_type": "code",
      "execution_count": null,
      "metadata": {
        "id": "M75gt7aYQP9p"
      },
      "outputs": [],
      "source": [
        "from sklearn.metrics import confusion_matrix,classification_report\n",
        "import seaborn as sns\n",
        "cm= confusion_matrix(data['y_test'],predictions)\n",
        "print(cm)\n",
        "print(\"classification_report of model1:\")\n",
        "print(classification_report(data['y_test'],predictions))\n",
        "sns.heatmap(cm, annot=True)"
      ]
    },
    {
      "cell_type": "code",
      "execution_count": null,
      "metadata": {
        "id": "V4T2LaoxETlm"
      },
      "outputs": [],
      "source": [
        "num_classes = cm.shape[0]\n",
        "\n",
        "# Initialize arrays to store TPR and FPR for each class\n",
        "tpr_per_class = np.zeros(num_classes)\n",
        "fpr_per_class = np.zeros(num_classes)\n",
        "\n",
        "for i in range(num_classes):\n",
        "    # True Positive (TP), False Positive (FP), True Negative (TN), False Negative (FN) for each class\n",
        "    TP = cm[i, i]\n",
        "    FP = cm[:, i].sum() - TP\n",
        "    FN = cm[i, :].sum() - TP\n",
        "    TN = cm.sum() - (TP + FP + FN)\n",
        "\n",
        "    # Calculate TPR and FPR for each class\n",
        "    tpr_per_class[i] = TP / (TP + FN)\n",
        "    fpr_per_class[i] = FP / (FP + TN)\n",
        "\n",
        "# Print TPR and FPR for each class\n",
        "for i in range(num_classes):\n",
        "    print(f\"Class {i} - TPR: {tpr_per_class[i]:.4f}, FPR: {fpr_per_class[i]:.4f}\")"
      ]
    },
    {
      "cell_type": "code",
      "execution_count": null,
      "metadata": {
        "id": "F1t-IVpF1bIn"
      },
      "outputs": [],
      "source": [
        "Y_test_flat = data['y_test'].view(data['y_test'].size(0), -1)\n",
        "Y_test_bin = label_binarize(Y_test_flat, classes= [0,1,2,3,4,5,6])\n",
        "Y_test_bin.shape"
      ]
    },
    {
      "cell_type": "code",
      "execution_count": null,
      "metadata": {
        "id": "imyYE07dSwq0"
      },
      "outputs": [],
      "source": [
        "predictions_flat= predictions.view(predictions.size(0), -1)\n",
        "pred_bin=label_binarize(predictions_flat, classes= [0,1,2,3,4,5,6])\n",
        "pred_bin.shape"
      ]
    },
    {
      "cell_type": "code",
      "execution_count": null,
      "metadata": {
        "id": "qT9Cvb3ueSeH"
      },
      "outputs": [],
      "source": [
        "fpr = dict()\n",
        "tpr = dict()\n",
        "roc_auc_per_class = dict()\n",
        "\n",
        "for i in range(7):\n",
        "    fpr[i], tpr[i], _ = roc_curve(Y_test_bin[:, i], pred_bin[:, i])\n",
        "    roc_auc_per_class[i] = auc(fpr[i], tpr[i])\n",
        "\n",
        "\n",
        "# Plot ROC curves for each class\n",
        "plt.figure(figsize=(8, 6))\n",
        "\n",
        "for i in range(7):\n",
        "  plt.plot(fpr[i], tpr[i],label=f'Class {i} (AUC = {roc_auc_per_class[i]:.2f})')\n",
        "\n",
        "\n",
        "plt.plot([0, 1], [0, 1], 'k--', lw=2)\n",
        "plt.xlim([0.0, 1.0])\n",
        "plt.ylim([0.0, 1.05])\n",
        "plt.xlabel('False Positive Rate')\n",
        "plt.ylabel('True Positive Rate')\n",
        "plt.title('Receiver Operating Characteristic (ROC) Curve for Multi-class')\n",
        "plt.legend(loc=\"lower right\")\n",
        "plt.show()"
      ]
    }
  ],
  "metadata": {
    "colab": {
      "provenance": []
    },
    "kernelspec": {
      "display_name": "Python 3",
      "name": "python3"
    },
    "language_info": {
      "name": "python"
    }
  },
  "nbformat": 4,
  "nbformat_minor": 0
}
